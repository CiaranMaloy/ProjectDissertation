{
 "cells": [
  {
   "cell_type": "markdown",
   "metadata": {},
   "source": [
    "# Train Random Forest"
   ]
  },
  {
   "cell_type": "code",
   "execution_count": 12,
   "metadata": {
    "collapsed": true
   },
   "outputs": [],
   "source": [
    "import pandas as pd\n",
    "\n",
    "def process_path_to_list(path):\n",
    "    import wave, os, glob\n",
    "    list_ = []\n",
    "    if os.path.exists(path):\n",
    "        for filename in glob.glob(os.path.join(path, '*.pkl')):\n",
    "            list_.append(filename)\n",
    "    else:\n",
    "        print('Does Not Exist')\n",
    "\n",
    "    return list_\n",
    "\n",
    "def process_path(path):\n",
    "    import wave, os, glob\n",
    "    list_ = []\n",
    "    if os.path.exists(path):\n",
    "        for filename in glob.glob(os.path.join(path, '*.wav')):\n",
    "            list_.append(filename)\n",
    "    else:\n",
    "         print(path + ' does not exist')   \n",
    "\n",
    "    # ----------- process each file in the list --------- \n",
    "    from scipy.io import wavfile\n",
    "    import numpy as np\n",
    "\n",
    "    # 1. check for useful data \n",
    "    list2_ = []\n",
    "    exceptions = 0\n",
    "    for file in list_:\n",
    "        try:\n",
    "            fs, data = wavfile.read(file) # read \n",
    "            data = np.array(data, dtype=np.float32)\n",
    "            list2_.append(file)\n",
    "        except: \n",
    "            exceptions += 1\n",
    "    print('no of exceptions: ' + str(exceptions))\n",
    "    return list2_\n",
    "\n",
    "def normalise(x):\n",
    "    x = x/max(x)\n",
    "    return(x)\n",
    "\n",
    "def make_mono(data):\n",
    "    try:\n",
    "        if len(data[0]) == 2:\n",
    "            data = np.matrix.transpose(data)\n",
    "            data = normalise(data[0] + data[1])\n",
    "    except:\n",
    "        data = data\n",
    "    return data\n",
    "\n",
    "def downsample(fs, data, target_samplerate):\n",
    "    if target_samplerate == fs/2:\n",
    "        output = []\n",
    "        for i in range(len(data)):\n",
    "            if i%2 == 0:\n",
    "                output.append(data[i])\n",
    "        output_samplerate = target_samplerate\n",
    "    elif target_samplerate == fs:\n",
    "        output = data\n",
    "        output_samplerate = fs\n",
    "    else: \n",
    "        output_samplerate = fs\n",
    "    return output_samplerate, output\n",
    "\n",
    "class TimeFrameFeatures:\n",
    "    \n",
    "    def __init__(self, windowLength, windowOverlap, timeFrameLength, timeFrameOverlap):\n",
    "        \n",
    "        self.windowLength = windowLength\n",
    "        self.windowOverlap = windowOverlap\n",
    "        self.timeFrameLength = timeFrameLength\n",
    "        self.timeFrameOverlap = timeFrameOverlap\n",
    "        \n",
    "        self.threshold = 0\n",
    "        self.timeFrames = []\n",
    "        self.MFCCFrames = []\n",
    "        self.ZCRFrames = []\n",
    "        self.CENTFrames = []\n",
    "        self.RMSFrames = []\n",
    "        self.SPEC_ENTFrames = []\n",
    "        self.waveformFrames = []\n",
    "        self.MFCCList = []\n",
    "    \n",
    "    def process_data(self, fs, data, label_array):\n",
    "        from python_speech_features import mfcc\n",
    "\n",
    "        windowsPerFrame = int(round(self.timeFrameLength/self.windowLength))\n",
    "        framesPerSecond = int(round(fs * self.timeFrameLength))\n",
    "        NframesPerFile = int(len(data)/(framesPerSecond*self.timeFrameOverlap))\n",
    "\n",
    "        self.threshold = 0\n",
    "        self.timeFrames = []\n",
    "        self.labelFrames = []\n",
    "        self.MFCCFrames = []\n",
    "        self.ZCRFrames = []\n",
    "        self.CENTFrames = []\n",
    "        self.RMSFrames = []\n",
    "        self.SPEC_ENTFrames = []\n",
    "        self.waveformFrames = []\n",
    "        self.MFCCList = []\n",
    "        self.absTimeList = []\n",
    "        for frameNum in range(NframesPerFile):\n",
    "            absTime = (frameNum*self.timeFrameOverlap*self.timeFrameLength)\n",
    "            C = int(round((frameNum*self.timeFrameOverlap)*framesPerSecond))\n",
    "            D = int(round((frameNum*self.timeFrameOverlap+1)*framesPerSecond))\n",
    "            dataFrame = data[C:D]\n",
    "            labels = label_array[C:D]\n",
    "            label = max(labels)\n",
    "\n",
    "            N = int(round(fs * self.windowLength))\n",
    "            c = 1\n",
    "            n = 1\n",
    "            o = self.windowOverlap\n",
    "            No_N = len(dataFrame)/(N*o)\n",
    "\n",
    "            ZCR = []\n",
    "            CENT = []\n",
    "            RMS = []\n",
    "            SPEC_ENT = []\n",
    "            MFCC = []\n",
    "            Time_Index = []\n",
    "            Waveform = []\n",
    "\n",
    "            NFFT = 0\n",
    "            Size = True\n",
    "            x = 0\n",
    "            for n in range(0, int(No_N)):\n",
    "                A = int(round((n*o)*N))\n",
    "                B = int(round((n*o+c)*N))\n",
    "                block = dataFrame[A:B]\n",
    "                window = np.hanning(len(block))\n",
    "                block = block * window\n",
    "\n",
    "                cross_rate = zero_cross_rate(fs, N, block)\n",
    "                spec_cent = spectral_centroid(block, fs)\n",
    "                rms = rms_value(block)\n",
    "                spec_entropy = spectral_entropy(block)\n",
    "\n",
    "                while Size == True:\n",
    "                    if len(block) > NFFT:\n",
    "                        NFFT = 2**x\n",
    "                    x += 1\n",
    "                    if x == 13 or NFFT > len(block):\n",
    "                        break\n",
    "                mfcc_values = mfcc(block, fs, winlen=self.windowLength, nfft=NFFT, winstep=(self.windowLength)*self.windowOverlap)\n",
    "                MFCC.append(mfcc_values)\n",
    "                ZCR.append(cross_rate)\n",
    "                CENT.append(spec_cent)\n",
    "                RMS.append(rms)\n",
    "                SPEC_ENT.append(spec_entropy)\n",
    "                time = (n*o + c/2)*N*(1/fs)\n",
    "                Time_Index.append(time)\n",
    "\n",
    "            self.absTimeList.append(absTime)\n",
    "            self.timeFrames.append(Time_Index)\n",
    "            self.MFCCFrames.append(MFCC)\n",
    "            Out = []\n",
    "            for frame in MFCC:\n",
    "                frame = frame[0]\n",
    "                for f in frame:\n",
    "                    Out.append(f)\n",
    "  \n",
    "            self.MFCCList.append([Out])\n",
    "            self.ZCRFrames.append(ZCR)\n",
    "            self.CENTFrames.append(CENT)\n",
    "            self.RMSFrames.append(RMS)\n",
    "            self.SPEC_ENTFrames.append(SPEC_ENT)\n",
    "            self.waveformFrames.append(dataFrame) \n",
    "            self.labelFrames.append(label)\n",
    "        \n",
    "            \n",
    "def zero_cross_rate(fs, N, block):\n",
    "    zero_crosses = np.nonzero(np.diff(block > 0))\n",
    "    no_crosses = np.size(zero_crosses) * 0.5\n",
    "    cross_rate = no_crosses * fs/N\n",
    "    return cross_rate\n",
    "\n",
    "def rms_value(block):\n",
    "    rms = np.sqrt(np.mean(block**2))\n",
    "    return rms\n",
    "\n",
    "def spectral_centroid(block, samplerate):\n",
    "    magnitudes = np.abs(np.fft.rfft(block)) # magnitudes of positive frequencies\n",
    "    length = len(block)\n",
    "    freqs = np.abs(np.fft.fftfreq(length, 1.0/samplerate)[:length//2+1]) # positive frequencies\n",
    "    return np.sum(magnitudes*freqs) / np.sum(magnitudes) # return weighted mean\n",
    "\n",
    "def spectral_entropy(block):\n",
    "    BLOCK = np.fft.fft(block)\n",
    "    P_w = (1/len(BLOCK))*abs(BLOCK)**2\n",
    "    P_i = P_w/sum(P_w)\n",
    "    \n",
    "    PSE = 0\n",
    "    for p in P_i:\n",
    "        PSE += p * np.log(p)\n",
    "    spec_entropy = -PSE\n",
    "    return spec_entropy\n",
    "\n",
    "## Filtering\n",
    "import scipy.signal as sig\n",
    "def butter_highpass(cutoff, fs, order=5):\n",
    "    nyq = 0.5 * fs\n",
    "    normal_cutoff = cutoff / nyq\n",
    "    b, a = sig.butter(order, normal_cutoff, btype='high', analog=False)\n",
    "    return b, a\n",
    "\n",
    "def butter_lowpass(cutoff, fs, order=5):\n",
    "    nyq = 0.5 * fs\n",
    "    normal_cutoff = cutoff / nyq\n",
    "    b, a = sig.butter(order, normal_cutoff, btype='low', analog=False)\n",
    "    return b, a\n",
    "\n",
    "def butter_highpass_filter(data, cutoff, fs, order=5):\n",
    "    b, a = butter_highpass(cutoff, fs, order=order)\n",
    "    y = sig.filtfilt(b, a, data)\n",
    "    return y\n",
    "\n",
    "def butter_lowpass_filter(data, cutoff, fs, order=5):\n",
    "    b, a = butter_lowpass(cutoff, fs, order=order)\n",
    "    y = sig.filtfilt(b, a, data)\n",
    "    return y\n",
    "\n",
    "def butter_bandpass_filter(data, fs, highpass=125, lowpass=4000, order=5):\n",
    "    data = butter_highpass_filter(data, highpass, fs, order=order)\n",
    "    data = butter_lowpass_filter(data, lowpass, fs, order=order)\n",
    "    return data\n",
    "\n",
    "def makeSpeechArray(dataIn, fs, windowLength, overlap, threshold):\n",
    "    dataIn = normalise(dataIn)\n",
    "\n",
    "    samplesInWindow = windowLength*fs\n",
    "    Nw = overlap*samplesInWindow\n",
    "    nWindows = len(dataIn)/Nw\n",
    "    nWindows = int(np.floor(nWindows))\n",
    "\n",
    "    speechArray = np.zeros(len(dataIn))\n",
    "    speechFrameArray = []\n",
    "    for n in range(nWindows):\n",
    "        A = int(round(n*Nw))\n",
    "        B = int(round((n+1)*Nw))\n",
    "        block = dataIn[A:B]\n",
    "        block = np.hanning(len(block))*block\n",
    "\n",
    "        rms = rms_value(block)\n",
    "        db_rms = 20*np.log10(rms)\n",
    "\n",
    "        if db_rms > threshold:\n",
    "            speechArray[A:B] = 1\n",
    "            speechFrameArray.append(1)\n",
    "            \n",
    "    return speechArray, speechFrameArray"
   ]
  },
  {
   "cell_type": "markdown",
   "metadata": {},
   "source": [
    "# Preprocessing and Loading in Dataframes"
   ]
  },
  {
   "cell_type": "code",
   "execution_count": 21,
   "metadata": {},
   "outputs": [
    {
     "name": "stdout",
     "output_type": "stream",
     "text": [
      "52651\n"
     ]
    }
   ],
   "source": [
    "dataFramePath = '/Volumes/RED_HD/DISSERTATION/Dataset2/50-50/Data_Training_Safety'\n",
    "filesList = process_path_to_list(dataFramePath)\n",
    "\n",
    "dataFrameList = []\n",
    "for file in filesList:\n",
    "    df = pd.read_pickle(file) \n",
    "    dataFrameList.append(df)\n",
    "    \n",
    "dataFrame = pd.concat(dataFrameList).reset_index(drop=True)\n",
    "print(len(dataFrame))"
   ]
  },
  {
   "cell_type": "markdown",
   "metadata": {},
   "source": [
    "#### Remove Excess Dataframse If need be"
   ]
  },
  {
   "cell_type": "code",
   "execution_count": 22,
   "metadata": {
    "collapsed": true
   },
   "outputs": [],
   "source": [
    "REMOVE = False\n",
    "# 1. randomise data in 'dataFrame'\n",
    "dataFrame = dataFrame.sample(frac=1).reset_index(drop=True)\n",
    "\n",
    "# 2. count instances of labels \n",
    "if REMOVE == True:\n",
    "    count = dataFrame['Label'].value_counts()\n",
    "\n",
    "    length = 10000000000000\n",
    "    for n in range(len(count)):\n",
    "        if count[n] < length:\n",
    "            length = count[n]\n",
    "\n",
    "    # 3. remove excess data \n",
    "    dataFrame0 = dataFrame[dataFrame['Label']==0].reset_index(drop=True)\n",
    "    dataFrame1 = dataFrame[dataFrame['Label']==1].reset_index(drop=True)\n",
    "\n",
    "    dataFrame0 = dataFrame0[:length]\n",
    "    dataFrame1 = dataFrame1[:length]\n",
    "\n",
    "    frameList = [dataFrame0, dataFrame1]\n",
    "    dataFrame = pd.concat(frameList).reset_index(drop=True)\n",
    "    count = dataFrame['Label'].value_counts()\n",
    "    print(count)\n"
   ]
  },
  {
   "cell_type": "markdown",
   "metadata": {},
   "source": [
    "Append all data in the dataframes into the form \n",
    "$$ (X_n, y_n) $$\n",
    "where $X_n$ is an array of features and $y_n$ is an array of labels"
   ]
  },
  {
   "cell_type": "code",
   "execution_count": 23,
   "metadata": {},
   "outputs": [
    {
     "name": "stdout",
     "output_type": "stream",
     "text": [
      "52546\n",
      "52546\n",
      "52651\n",
      "24\n",
      "312\n",
      "336\n"
     ]
    }
   ],
   "source": [
    "# format\n",
    "df = dataFrame\n",
    "\n",
    "Data = []\n",
    "Labels = []\n",
    "\n",
    "for i in df.index:\n",
    "    X = []\n",
    "    #X.extend(df['CENT'][i])\n",
    "    #X.extend(df['SPEC_ENT'][i])\n",
    "    X.extend(df['ZCR'][i]) \n",
    "    X.extend(df['MFCC'][i])\n",
    "    #X.extend(df['av_MFCC'][i])\n",
    "\n",
    "    if i == 0:\n",
    "        length = len(X)\n",
    "    if len(X) == length:\n",
    "        Data.append(X)\n",
    "        Y = df['Label'][i]\n",
    "        Labels.append(Y)\n",
    "\n",
    "print(len(Labels))\n",
    "print(len(Data))\n",
    "print(len(df.index))\n",
    "\n",
    "#print(len(df['CENT'][0]))\n",
    "#print(len(df['SPEC_ENT'][0]))\n",
    "print(len(df['ZCR'][0]))\n",
    "print(len(df['MFCC'][0]))\n",
    "#print(len(df['av_MFCC'][0]))\n",
    "\n",
    "print(len(df['ZCR'][0]) + len(df['MFCC'][0]))\n",
    "Training_Labels = Labels"
   ]
  },
  {
   "cell_type": "markdown",
   "metadata": {},
   "source": [
    "# Train Random Forest"
   ]
  },
  {
   "cell_type": "code",
   "execution_count": 24,
   "metadata": {},
   "outputs": [
    {
     "name": "stdout",
     "output_type": "stream",
     "text": [
      "0.959180178122859\n",
      "[[14076   508]\n",
      " [  207  2725]]\n"
     ]
    },
    {
     "data": {
      "image/png": "[encoded data removed]",
      "text/plain": [
       "<matplotlib.figure.Figure at 0x1744703c8>"
      ]
     },
     "metadata": {},
     "output_type": "display_data"
    },
    {
     "name": "stdout",
     "output_type": "stream",
     "text": [
      "0.9638595489580359\n",
      "[[14085   436]\n",
      " [  197  2797]]\n"
     ]
    },
    {
     "data": {
      "image/png": "[encoded data removed]",
      "text/plain": [
       "<matplotlib.figure.Figure at 0x16f78de48>"
      ]
     },
     "metadata": {},
     "output_type": "display_data"
    },
    {
     "name": "stdout",
     "output_type": "stream",
     "text": [
      "0.9617470739366257\n",
      "[[14069   457]\n",
      " [  213  2776]]\n"
     ]
    },
    {
     "data": {
      "image/png": "[encoded data removed]",
      "text/plain": [
       "<matplotlib.figure.Figure at 0x165524898>"
      ]
     },
     "metadata": {},
     "output_type": "display_data"
    }
   ],
   "source": [
    "import numpy as np\n",
    "from sklearn.neighbors import KNeighborsClassifier\n",
    "from sklearn.model_selection import StratifiedKFold\n",
    "from sklearn.ensemble import RandomForestClassifier\n",
    "from sklearn.base import clone\n",
    "from sklearn.metrics import confusion_matrix\n",
    "import matplotlib.pyplot as plt\n",
    "\n",
    "trees = int(50)\n",
    "model = RandomForestClassifier(n_estimators = trees, n_jobs=-1, max_features='sqrt')\n",
    "\n",
    "# Randomise data \n",
    "Data = np.array(Data)\n",
    "Labels = np.array(Labels)\n",
    "\n",
    "shuffle = np.random.permutation(len(Labels))\n",
    "Data, Labels = Data[shuffle], Labels[shuffle]\n",
    "\n",
    "FOLD = True\n",
    "if FOLD == True:\n",
    "    skfolds = StratifiedKFold(n_splits=3)\n",
    "    for train_index, test_index in skfolds.split(Data, Labels):\n",
    "        clone_ = clone(model)\n",
    "\n",
    "        X_train_folds = Data[train_index]\n",
    "        y_train_folds = Labels[train_index]\n",
    "        X_test_fold = Data[test_index]\n",
    "        y_test_fold = Labels[test_index]\n",
    "\n",
    "        clone_.fit(X_train_folds, y_train_folds)\n",
    "        y_pred = clone_.predict(X_test_fold)\n",
    "        n_correct = sum(y_pred == y_test_fold)\n",
    "        print(n_correct / len(y_pred))\n",
    "\n",
    "        conf_mx = confusion_matrix(y_pred, y_test_fold)\n",
    "        print(conf_mx)\n",
    "\n",
    "        row_sums = conf_mx.sum(axis=1, keepdims=True)\n",
    "        norm_conf_mx = conf_mx / row_sums\n",
    "\n",
    "        plt.matshow(norm_conf_mx, cmap=plt.cm.gray)\n",
    "        plt.show()"
   ]
  },
  {
   "cell_type": "markdown",
   "metadata": {},
   "source": [
    "### Train on Full Training Set\n",
    "now that the variance of the training set has been checked through cross validation, the whole set can be used to train a random forest classifier"
   ]
  },
  {
   "cell_type": "code",
   "execution_count": 25,
   "metadata": {},
   "outputs": [
    {
     "name": "stdout",
     "output_type": "stream",
     "text": [
      "0.9999809690556846\n",
      "[[42847     1]\n",
      " [    0  9698]]\n"
     ]
    },
    {
     "data": {
      "image/png": "[encoded data removed]",
      "text/plain": [
       "<matplotlib.figure.Figure at 0x165a4a320>"
      ]
     },
     "metadata": {},
     "output_type": "display_data"
    },
    {
     "data": {
      "text/plain": [
       "['RandomForest_50trees-108filesFalse.pkl']"
      ]
     },
     "execution_count": 25,
     "metadata": {},
     "output_type": "execute_result"
    }
   ],
   "source": [
    "from sklearn.externals import joblib\n",
    "\n",
    "Path = '/Volumes/RED_HD/DISSERTATION/Machine_Learning_Models/RandomForest/'\n",
    "treestr = str(trees) + 'trees'\n",
    "filesstr = str(len(filesList)) + 'files'\n",
    "post = treestr + '-' + filesstr\n",
    "filename = 'RandomForest_' + post + str(REMOVE) + '.pkl'\n",
    "path_filename = Path + filename\n",
    "\n",
    "RandomForest = RandomForestClassifier(n_estimators = trees, n_jobs=-1, max_features='auto', oob_score=True)\n",
    "X = Data\n",
    "X_train = Data\n",
    "y = Labels\n",
    "y_train = Labels\n",
    "RandomForest.fit(X, y)\n",
    "\n",
    "# save model\n",
    "joblib.dump(RandomForest, filename)\n",
    "joblib.dump(RandomForest, path_filename)\n",
    "\n",
    "from sklearn.metrics import confusion_matrix\n",
    "import matplotlib.pyplot as plt\n",
    "\n",
    "y_pred = RandomForest.predict(Data)\n",
    "n_correct = sum(y_pred == Labels)\n",
    "print(n_correct / len(y_pred))\n",
    "conf_mx = confusion_matrix(y_pred, Labels)\n",
    "print(conf_mx)\n",
    "\n",
    "row_sums = conf_mx.sum(axis=1, keepdims=True)\n",
    "norm_conf_mx = conf_mx / row_sums\n",
    "\n",
    "plt.matshow(norm_conf_mx, cmap=plt.cm.gray)\n",
    "plt.show()\n",
    "\n",
    "joblib.dump(RandomForest, filename)"
   ]
  },
  {
   "cell_type": "markdown",
   "metadata": {},
   "source": [
    "As you can see, the `Greedy Algorithm` exausts all avalable data, so when one tests it on data it has been trained on, it correctly classifies every instance"
   ]
  },
  {
   "cell_type": "markdown",
   "metadata": {},
   "source": [
    "## Testing on a Holdout set of audio samples with different speakers and  background noise levels provides a more rigorous testing of the algorithm"
   ]
  },
  {
   "cell_type": "markdown",
   "metadata": {},
   "source": [
    "#### Preprocessing "
   ]
  },
  {
   "cell_type": "code",
   "execution_count": 26,
   "metadata": {},
   "outputs": [
    {
     "name": "stdout",
     "output_type": "stream",
     "text": [
      "1    8983\n",
      "0    8983\n",
      "Name: Label, dtype: int64\n"
     ]
    }
   ],
   "source": [
    "dataFramePath = '/Volumes/RED_HD/DISSERTATION/Dataset2/50-50/Data_Holdout_Safety'\n",
    "\n",
    "filesList = process_path_to_list(dataFramePath)\n",
    "\n",
    "dataFrameList = []\n",
    "i = 0\n",
    "n = 0\n",
    "for file in filesList:\n",
    "    df = pd.read_pickle(file) \n",
    "    dataFrameList.append(df)\n",
    "dataFrame = pd.concat(dataFrameList).reset_index(drop=True)\n",
    "\n",
    "# remove extra data \n",
    "REMOVE = True\n",
    "# 1. randomise data in 'dataFrame'\n",
    "dataFrame = dataFrame.sample(frac=1).reset_index(drop=True)\n",
    "\n",
    "# 2. count instances of labels \n",
    "if REMOVE == True:\n",
    "    count = dataFrame['Label'].value_counts()\n",
    "\n",
    "    length = 10000000000000\n",
    "    for n in range(len(count)):\n",
    "        if count[n] < length:\n",
    "            length = count[n]\n",
    "\n",
    "    # 3. remove excess data \n",
    "    dataFrame0 = dataFrame[dataFrame['Label']==0].reset_index(drop=True)\n",
    "    dataFrame1 = dataFrame[dataFrame['Label']==1].reset_index(drop=True)\n",
    "\n",
    "    dataFrame0 = dataFrame0[:length]\n",
    "    dataFrame1 = dataFrame1[:length]\n",
    "\n",
    "    frameList = [dataFrame0, dataFrame1]\n",
    "    dataFrame = pd.concat(frameList).reset_index(drop=True)\n",
    "    count = dataFrame['Label'].value_counts()\n",
    "    print(count)\n",
    "\n",
    "df = dataFrame\n",
    "\n",
    "Data = []\n",
    "Labels = []\n",
    "\n",
    "for i in df.index:\n",
    "    X = []\n",
    "    #X.extend(df['CENT'][i])\n",
    "    #X.extend(df['SPEC_ENT'][i])\n",
    "    X.extend(df['ZCR'][i]) \n",
    "    X.extend(df['MFCC'][i])\n",
    "    #X.extend(df['av_MFCC'][i])\n",
    "    \n",
    "    if i == 313:\n",
    "        length = len(X)\n",
    "    if len(X) == length:\n",
    "        Data.append(X)\n",
    "        Y = df['Label'][i]\n",
    "        Labels.append(Y)\n",
    "\n",
    "Testing_Labels = Labels"
   ]
  },
  {
   "cell_type": "code",
   "execution_count": 27,
   "metadata": {},
   "outputs": [
    {
     "name": "stdout",
     "output_type": "stream",
     "text": [
      "Accuracy : -------------\n",
      "0.8812336703396569\n",
      "------------------------\n"
     ]
    },
    {
     "data": {
      "image/png": "[encoded data removed]",
      "text/plain": [
       "<matplotlib.figure.Figure at 0x1409c72e8>"
      ]
     },
     "metadata": {},
     "output_type": "display_data"
    }
   ],
   "source": [
    "X_test = Data\n",
    "y_pred = RandomForest.predict(Data)\n",
    "n_correct = sum(y_pred == Labels)\n",
    "print('Accuracy : -------------')\n",
    "print(n_correct / len(y_pred))\n",
    "print('------------------------')\n",
    "### Confusion Matrix\n",
    "\n",
    "from sklearn.metrics import confusion_matrix\n",
    "import matplotlib.pyplot as plt\n",
    "conf_mx = confusion_matrix(y_pred, Labels)\n",
    "\n",
    "row_sums = conf_mx.sum(axis=1, keepdims=True)\n",
    "norm_conf_mx = conf_mx / row_sums\n",
    "\n",
    "import seaborn as sns; sns.set()\n",
    "ax = sns.heatmap(norm_conf_mx, annot=True, vmin=0, vmax=1, cmap=\"Greys\")\n",
    "plt.title('Confusion Matrix (70:30)')\n",
    "#plt.savefig('confmx_90-10_miss_after.png', dpi=700)\n",
    "plt.show()"
   ]
  },
  {
   "cell_type": "code",
   "execution_count": 28,
   "metadata": {},
   "outputs": [
    {
     "name": "stdout",
     "output_type": "stream",
     "text": [
      "17606\n",
      "17606\n"
     ]
    },
    {
     "data": {
      "image/png": "[encoded data removed]",
      "text/plain": [
       "<matplotlib.figure.Figure at 0x173918ef0>"
      ]
     },
     "metadata": {},
     "output_type": "display_data"
    }
   ],
   "source": [
    "from sklearn.metrics import roc_curve\n",
    "from sklearn.metrics import precision_recall_curve\n",
    "\n",
    "# ROC Curve\n",
    "y_score = RandomForest.predict_proba(X_test)\n",
    "print(len(y_score))\n",
    "print(len(Testing_Labels))\n",
    "fpr, tpr, thresholds = roc_curve(Testing_Labels, np.array(y_score).T[1])\n",
    "\n",
    "def plot_roc_curve(fpr, tpr, label=None):\n",
    "    plt.plot(fpr, tpr, linewidth=2, label=label)\n",
    "    plt.plot([0,1], [0,1], 'k--')\n",
    "    plt.axis([0,1,0,1])\n",
    "    plt.xlabel('False Positive Rate')\n",
    "    plt.ylabel('True Positive Rate')\n",
    "\n",
    "plot_roc_curve(fpr, tpr)\n",
    "title = 'ROC Curve (50:50)'\n",
    "plt.title(title)\n",
    "plt.savefig(title + '.png', dpi=700)\n",
    "plt.show()"
   ]
  },
  {
   "cell_type": "code",
   "execution_count": null,
   "metadata": {
    "collapsed": true
   },
   "outputs": [],
   "source": []
  }
 ],
 "metadata": {
  "kernelspec": {
   "display_name": "Python 3",
   "language": "python",
   "name": "python3"
  },
  "language_info": {
   "codemirror_mode": {
    "name": "ipython",
    "version": 3
   },
   "file_extension": ".py",
   "mimetype": "text/x-python",
   "name": "python",
   "nbconvert_exporter": "python",
   "pygments_lexer": "ipython3",
   "version": "3.6.2"
  }
 },
 "nbformat": 4,
 "nbformat_minor": 2
}
