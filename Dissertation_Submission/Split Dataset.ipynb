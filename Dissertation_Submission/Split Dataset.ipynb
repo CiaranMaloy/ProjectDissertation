{
 "cells": [
  {
   "cell_type": "markdown",
   "metadata": {},
   "source": [
    "# Split Dataset"
   ]
  },
  {
   "cell_type": "code",
   "execution_count": 1,
   "metadata": {},
   "outputs": [],
   "source": [
    "from scipy.io import wavfile\n",
    "import numpy as np\n",
    "import random as rand\n",
    "\n",
    "# Reads all wav files in a path and returns a list of the readable files\n",
    "def process_wav_files(path):\n",
    "    import wave, os, glob\n",
    "    list_ = []\n",
    "    if os.path.exists(path):\n",
    "        for filename in glob.glob(os.path.join(path, '*.wav')):\n",
    "            list_.append(filename)\n",
    "    else:\n",
    "         print(path + ' does not exist')   \n",
    "\n",
    "    list2_ = []\n",
    "    exceptions = 0\n",
    "    for file in list_:\n",
    "        try:\n",
    "            fs, data = wavfile.read(file) # read \n",
    "            data = np.array(data, dtype=np.float32)\n",
    "            list2_.append(file)\n",
    "        except: \n",
    "            exceptions += 1\n",
    "    print('no of exceptions: ' + str(exceptions))\n",
    "    return list2_\n",
    "\n",
    "# make two separate lists split randomly\n",
    "def Split_List(fileList, Train, Test):\n",
    "    randInt = lambda x: int(round(rand.uniform(0, 1) * x))\n",
    "    \n",
    "    N_Test = int(round(len(fileList)*Test))\n",
    "    print(N_Test)\n",
    "\n",
    "    Hold_Array = []\n",
    "    i = 0\n",
    "    while True:\n",
    "        file = fileList[randInt(len(fileList))-1]\n",
    "        if file not in Hold_Array:\n",
    "            Hold_Array.append(file)\n",
    "            i += 1\n",
    "        if i == N_Test:\n",
    "            break\n",
    "\n",
    "    Train_Array = []\n",
    "    for file in fileList:\n",
    "        if file not in Hold_Array:\n",
    "            Train_Array.append(file)\n",
    "    return Train_Array, Hold_Array\n",
    "\n",
    "# copy files from hold array speech into hold dir \n",
    "def Copy_Files_To_Folder(Array, Destination):\n",
    "    # delete all files currently in the destination folder \n",
    "    for the_file in os.listdir(Destination):\n",
    "        file_path = os.path.join(Destination, the_file)\n",
    "        try:\n",
    "            if os.path.isfile(file_path):\n",
    "                os.unlink(file_path)\n",
    "        \n",
    "        except Exception as e:\n",
    "            print(e)\n",
    "    # replace them with files in array\n",
    "    for f in Array:\n",
    "        shutil.copy(f, Destination)\n",
    "    print(dest)\n",
    "    print('done')"
   ]
  },
  {
   "cell_type": "markdown",
   "metadata": {},
   "source": [
    "# Main Body"
   ]
  },
  {
   "cell_type": "code",
   "execution_count": 2,
   "metadata": {},
   "outputs": [
    {
     "name": "stdout",
     "output_type": "stream",
     "text": [
      "90 : 10\n"
     ]
    },
    {
     "name": "stderr",
     "output_type": "stream",
     "text": [
      "/Library/Frameworks/Python.framework/Versions/3.6/lib/python3.6/site-packages/scipy/io/wavfile.py:273: WavFileWarning: Chunk (non-data) not understood, skipping it.\n",
      "  WavFileWarning)\n"
     ]
    },
    {
     "name": "stdout",
     "output_type": "stream",
     "text": [
      "no of exceptions: 0\n",
      "no of exceptions: 0\n",
      "12\n",
      "10\n",
      "/Volumes/RED_HD/DISSERTATION/Dataset2/90-10/Noise_Holdout\n",
      "done\n",
      "/Volumes/RED_HD/DISSERTATION/Dataset2/90-10/Noise_Training\n",
      "done\n",
      "/Volumes/RED_HD/DISSERTATION/Dataset2/90-10/Speech_Holdout\n",
      "done\n",
      "/Volumes/RED_HD/DISSERTATION/Dataset2/90-10/Speech_Training\n",
      "done\n"
     ]
    }
   ],
   "source": [
    "import shutil, os\n",
    "\n",
    "# declare split \n",
    "Train = 90\n",
    "Test= 10\n",
    "\n",
    "# make ratio \n",
    "trainRatio = Train/(Train + Test)\n",
    "testRatio = Test/(Train + Test)\n",
    "print(str(Train), ':', str(Test))\n",
    "\n",
    "# Declare Path \n",
    "PATH_S = \"/Volumes/RED_HD/DISSERTATION/Dataset2/Speech2\"\n",
    "PATH_N = \"/Volumes/RED_HD/DISSERTATION/Dataset2/Noise2\"\n",
    "\n",
    "# count files in each \n",
    "list_s = process_wav_files(PATH_S)\n",
    "list_n = process_wav_files(PATH_N)\n",
    "\n",
    "# make arrays of training and testing data\n",
    "trainArrayNoise, holdoutArrayNoise = Split_List(list_n, trainRatio, testRatio)\n",
    "trainArraySpeech, holdoutArraySpeech = Split_List(list_s, trainRatio, testRatio)\n",
    "\n",
    "# copy contents of the above arrays into separate files\n",
    "dest = \"/Volumes/RED_HD/DISSERTATION/Dataset2/90-10/Noise_Holdout\"\n",
    "Copy_Files_To_Folder(holdoutArrayNoise, dest)\n",
    "\n",
    "dest = \"/Volumes/RED_HD/DISSERTATION/Dataset2/90-10/Noise_Training\"\n",
    "Copy_Files_To_Folder(trainArrayNoise, dest)\n",
    "\n",
    "dest = \"/Volumes/RED_HD/DISSERTATION/Dataset2/90-10/Speech_Holdout\"\n",
    "Copy_Files_To_Folder(holdoutArraySpeech, dest)\n",
    "\n",
    "dest = \"/Volumes/RED_HD/DISSERTATION/Dataset2/90-10/Speech_Training\"\n",
    "Copy_Files_To_Folder(trainArraySpeech, dest)"
   ]
  },
  {
   "cell_type": "code",
   "execution_count": null,
   "metadata": {
    "collapsed": true
   },
   "outputs": [],
   "source": []
  }
 ],
 "metadata": {
  "kernelspec": {
   "display_name": "Python 3",
   "language": "python",
   "name": "python3"
  },
  "language_info": {
   "codemirror_mode": {
    "name": "ipython",
    "version": 3
   },
   "file_extension": ".py",
   "mimetype": "text/x-python",
   "name": "python",
   "nbconvert_exporter": "python",
   "pygments_lexer": "ipython3",
   "version": "3.6.2"
  }
 },
 "nbformat": 4,
 "nbformat_minor": 2
}
